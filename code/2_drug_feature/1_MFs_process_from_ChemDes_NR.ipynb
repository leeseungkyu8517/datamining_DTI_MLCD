{
 "cells": [
  {
   "cell_type": "code",
   "execution_count": 5,
   "metadata": {
    "collapsed": true
   },
   "outputs": [],
   "source": [
    "import numpy as np\n",
    "import pandas as pd\n",
    "np.set_printoptions(threshold=123456789)\n",
    "\n",
    "import math, random\n",
    "from collections import Counter\n",
    "from itertools import product\n",
    "from copy import deepcopy\n",
    "\n",
    "from rdkit import Chem\n",
    "from rdkit.Chem import AllChem\n",
    "import os"
   ]
  },
  {
   "cell_type": "markdown",
   "metadata": {},
   "source": [
    "# file"
   ]
  },
  {
   "cell_type": "code",
   "execution_count": 6,
   "metadata": {
    "collapsed": true
   },
   "outputs": [],
   "source": [
    "def read_batch_smi(filename, pwd = '/home/chujunyi/2_Program/2_output_file/3_drug_feature/0_original_data/'):\n",
    "    with open(pwd + filename) as f:\n",
    "        batch_smi = f.readlines()\n",
    "    return [temp.replace('\\n','') for temp in batch_smi]"
   ]
  },
  {
   "cell_type": "markdown",
   "metadata": {},
   "source": [
    "#### original Yamanishi_08 "
   ]
  },
  {
   "cell_type": "code",
   "execution_count": 2,
   "metadata": {
    "scrolled": true
   },
   "outputs": [
    {
     "data": {
      "text/plain": [
       "'CC(C)C(=O)Nc1ccc([N+](=O)[O-])c(C(F)(F)F)c1\\nCC=C(C(=CC)c1ccc(O)cc1)c1ccc(O)cc1\\nCC12CCC(=O)C=C1CCC1C2C(O)CC2(C)C1CCC2(O)C(=O)CO\\nC=C1CCC(O)CC1=CC=C1CCCC2(C)C1CCC2C(C)CCCC(C)C\\nCC1(O)CCC2C3CCC4=CC(=O)CCC4(C)C3(F)C(O)CC21C\\nC#CC1(O)CCC2C3CCC4=CC(=O)CCC4C3CCC21C\\nCC(CCC(=O)O)C1CCC2C3C(O)CC4CC(O)CCC4(C)C3CCC12C\\nCC1(C)NC(=O)N(c2ccc([N+](=O)[O-])c(C(F)(F)F)c2)C1=O\\nCC(C=CC(C)C(C)(C)O)C1CCC2C(=CC=C3CC(O)CC(O)C3)CCCC21C\\nCOC1C=COC2(C)Oc3c(C)c(O)c4c(O)c(c(C=NN5CCN(C)CC5)c(O)c4c3C2=O)NC(=O)C(C)=CC=CC(C)C(O)C(C)C(O)C(C)C(OC(C)=O)C1C\\nCC(=O)C1CCC2C3C=CC4=CC(=O)CCC4(C)C3CCC12C\\nCC(C)CCCC(C)C1CCC2C3CC=C4CC(O)CCC4(C)C3CCC12C\\nCC(=O)C1CCC2C3CC=C4CC(O)CCC4(C)C3CCC12C\\nCC(O)(CS(=O)(=O)c1ccc(F)cc1)C(=O)Nc1ccc(C#N)c(C(F)(F)F)c1\\nC#CC1(O)CCC2C3CCC4=CC(=O)CCC4C3CCC21CC\\nCC12CCC3c4ccc(O)cc4CCC3C1CCC2O\\nC=C1C(=CC=C2CCCC3(C)C2CCC3C(C)CCCC(C)(C)O)CC(O)CC1O\\nCCCc1nc2c(C)cc(-c3nc4ccccc4n3C)cc2n1Cc1ccc(-c2ccccc2C(=O)O)cc1\\nCCCC1OC2CC3C4CCC5=CC(=O)C=CC5(C)C4C(O)CC3(C)C2(C(=O)CO)O1\\nCS(=O)(=O)O.Cc1ccc(NC(=O)c2ccc(CN3CCN(C)CC3)cc2)cc1Nc1nccc(-c2cccnc2)n1\\nCOC(=O)C1CC2=CC(=O)CCC2(C)C23OC2CC2(C)C(CCC24CCC(=O)O4)C13\\nCCC(=C(CC)c1ccc(O)cc1)c1ccc(O)cc1\\nCC(=O)OC1(C(C)=O)CCC2C3CC(C)C4=CC(=O)CCC4(C)C3CCC21C\\nCC12COC(=O)CC1CCC1C2CCC2(C)C1CCC2(C)O\\nCC12CCC3c4ccc(O)cc4CCC3C1CCC2=O\\nC#CC1(O)CCC2C3CCC4=CC(=O)CCC4C3CCC21CC\\nCC12CCC3C4CCC(=O)C=C4CCC3C1CCC2OC(=O)CCc1ccccc1\\nCC(C=CC1=C(C)CCCC1(C)C)=CC=CC(C)=CC(=O)O\\nCCOC(=O)C=C(C)C=CC=C(C)C=Cc1c(C)cc(OC)c(C)c1C\\nCC(=O)SC1CC2=CC(=O)CCC2(C)C2CCC3(C)C(CCC34CCC(=O)O4)C12\\nCCCCCCCCCCCCCCCC(=O)O\\nCN(CCOc1ccc(CC2SC(=O)NC2=O)cc1)c1ccccn1.O=C(O)C=CC(=O)O\\nC#CC1(O)CCC2C3CCc4cc(O)ccc4C3CCC21C\\nC=C1CCC(O)CC1=CC=C1CCCC2(C)C1CCC2C(C)C=CC(C)C(C)C\\nCC(C)OC(=O)C(C)(C)Oc1ccc(C(=O)c2ccc(Cl)cc2)cc1\\nCC1CCC(O)CC1=CC=C1CCCC2(C)C1CCC2C(C)C=CC(C)C(C)C\\nCCN(CC)CCOc1ccc(C(=C(Cl)c2ccccc2)c2ccccc2)cc1.O=C(O)CC(O)(CC(=O)O)C(=O)O\\nCC1CC2C3CCC4=CC(=O)C=CC4(C)C3(Cl)C(O)CC2(C)C1(OC(=O)c1ccco1)C(=O)CCl\\nCC(=O)C1CCC2C3CCC4=CC(=O)CCC4(C)C3CCC12C\\nCCOC(=O)OC1(C(=O)OCCl)CCC2C3CCC4=CC(=O)C=CC4(C)C3C(O)CC21C\\nCC(=O)OCC(=O)C12OC3(CCCC3)OC1CC1C3CCC4=CC(=O)C=CC4(C)C3(F)C(O)CC12C\\nCCCCOC(=O)c1ccc(N)cc1\\nCCC1(c2ccccc2)C(=O)NC(=O)NC1=O\\nCl.O=C(c1ccc(OCCN2CCCCC2)cc1)c1c(-c2ccc(O)cc2)sc2cc(O)ccc12\\nCC12CCC(=O)C=C1CCC1C2CCC2(C)C(O)CCC12\\nCC12CCC3c4ccc(OS(=O)(=O)[O-])cc4CCC3C1CCC2=O.[Na+]\\nCC12CCC3c4ccc(OC(=O)N(CCCl)CCCl)cc4CCC3C1CCC2O\\nCC12CCC3c4ccc(O)cc4CC(CCCCCCCCCS(=O)CCCC(F)(F)C(F)(F)F)C3C1CCC2O\\nC#CC1(OC(C)=O)CCC2C3CCC4=CC(OC(C)=O)CCC4C3CCC21C\\nCCOC(=O)C(C)(C)Oc1ccc(Cl)cc1\\nCCOC(=O)c1ccc(C#Cc2ccc3c(c2)C(C)(C)CCS3)nc1\\nCC(C=CC1=C(C)CCCC1(C)C)=CC=CC(C)=CC(=O)O\\nC#CC1(O)CCC2C3CCC4=CCCCC4C3C(=C)CC21CC\\nCC#CC1(O)CCC2C3CCC4=CC(=O)CCC4=C3C(c3ccc(N(C)C)cc3)CC21C\\n'"
      ]
     },
     "execution_count": 2,
     "metadata": {},
     "output_type": "execute_result"
    }
   ],
   "source": [
    "drug_dict = np.load('/home/chujunyi/2_Program/0_data_sets/NR/drug_smiles_dict.npy', allow_pickle = True).item()\n",
    "drug_smiles = ''\n",
    "for smi in drug_dict.values():\n",
    "    temp = Chem.MolToSmiles(Chem.MolFromSmiles(smi))\n",
    "    drug_smiles += temp + '\\n'\n",
    "drug_smiles"
   ]
  },
  {
   "cell_type": "code",
   "execution_count": 3,
   "metadata": {
    "collapsed": true
   },
   "outputs": [],
   "source": [
    "with open('/home/chujunyi/2_Program/0_data_sets/NR/nr_origin_drug_smiles.smi', 'w') as f:\n",
    "    f.write(drug_smiles)"
   ]
  },
  {
   "cell_type": "markdown",
   "metadata": {},
   "source": [
    "#### Updated "
   ]
  },
  {
   "cell_type": "code",
   "execution_count": 2,
   "metadata": {},
   "outputs": [
    {
     "data": {
      "text/plain": [
       "580"
      ]
     },
     "execution_count": 2,
     "metadata": {},
     "output_type": "execute_result"
    }
   ],
   "source": [
    "# updated_drug_dict = np.load('/home/chujunyi/2_Program/0_data_sets/NR/updated_drug_smiles_dict.npy', allow_pickle = True).item()\n",
    "# updated_drug_smiles = ''\n",
    "# updated_drug_ids_smi = []\n",
    "# i = 0\n",
    "# for id_, smi in updated_drug_dict.items():\n",
    "#     updated_drug_smiles += smi + '\\n'\n",
    "#     updated_drug_ids_smi.append([id_,smi])\n",
    "#     i += 1\n",
    "# i"
   ]
  },
  {
   "cell_type": "code",
   "execution_count": 5,
   "metadata": {
    "collapsed": true
   },
   "outputs": [],
   "source": [
    "# with open('/home/chujunyi/2_Program/0_data_sets/NR/nr_updated_drug_smiles.smi', 'w') as f:\n",
    "#     f.write(updated_drug_smiles)"
   ]
  },
  {
   "cell_type": "code",
   "execution_count": 3,
   "metadata": {
    "scrolled": true
   },
   "outputs": [
    {
     "data": {
      "text/html": [
       "<div>\n",
       "<style scoped>\n",
       "    .dataframe tbody tr th:only-of-type {\n",
       "        vertical-align: middle;\n",
       "    }\n",
       "\n",
       "    .dataframe tbody tr th {\n",
       "        vertical-align: top;\n",
       "    }\n",
       "\n",
       "    .dataframe thead th {\n",
       "        text-align: right;\n",
       "    }\n",
       "</style>\n",
       "<table border=\"1\" class=\"dataframe\">\n",
       "  <thead>\n",
       "    <tr style=\"text-align: right;\">\n",
       "      <th></th>\n",
       "      <th>id</th>\n",
       "      <th>smile</th>\n",
       "    </tr>\n",
       "  </thead>\n",
       "  <tbody>\n",
       "    <tr>\n",
       "      <th>0</th>\n",
       "      <td>D07800</td>\n",
       "      <td>CCCCC(=O)OCC(=O)C1(O)C(C)CC2C3CCC4=CC(=O)C=CC4...</td>\n",
       "    </tr>\n",
       "    <tr>\n",
       "      <th>1</th>\n",
       "      <td>D00088</td>\n",
       "      <td>CC12CCC(=O)C=C1CCC1C2C(O)CC2(C)C1CCC2(O)C(=O)CO</td>\n",
       "    </tr>\n",
       "    <tr>\n",
       "      <th>2</th>\n",
       "      <td>D06876</td>\n",
       "      <td>CCC(=O)OC1(C(=O)COC(C)=O)CCC2C3CCC4=CC(=O)CCC4...</td>\n",
       "    </tr>\n",
       "    <tr>\n",
       "      <th>3</th>\n",
       "      <td>D03911</td>\n",
       "      <td>CCC(=C(c1ccc(OCCN(C)C)cc1)c1cccc(O)c1)c1ccccc1</td>\n",
       "    </tr>\n",
       "    <tr>\n",
       "      <th>4</th>\n",
       "      <td>D02174</td>\n",
       "      <td>CC(=O)OCC(=O)C1(O)C(C)CC2C3CCC4=CC(=O)C=CC4(C)...</td>\n",
       "    </tr>\n",
       "  </tbody>\n",
       "</table>\n",
       "</div>"
      ],
      "text/plain": [
       "       id                                              smile\n",
       "0  D07800  CCCCC(=O)OCC(=O)C1(O)C(C)CC2C3CCC4=CC(=O)C=CC4...\n",
       "1  D00088    CC12CCC(=O)C=C1CCC1C2C(O)CC2(C)C1CCC2(O)C(=O)CO\n",
       "2  D06876  CCC(=O)OC1(C(=O)COC(C)=O)CCC2C3CCC4=CC(=O)CCC4...\n",
       "3  D03911     CCC(=C(c1ccc(OCCN(C)C)cc1)c1cccc(O)c1)c1ccccc1\n",
       "4  D02174  CC(=O)OCC(=O)C1(O)C(C)CC2C3CCC4=CC(=O)C=CC4(C)..."
      ]
     },
     "execution_count": 3,
     "metadata": {},
     "output_type": "execute_result"
    }
   ],
   "source": [
    "# nr_updated_id_smi = pd.DataFrame(updated_drug_ids_smi)\n",
    "# nr_updated_id_smi.columns= ['id', 'smile']\n",
    "# nr_updated_id_smi.head()"
   ]
  },
  {
   "cell_type": "markdown",
   "metadata": {},
   "source": [
    "# ChemDes MFs"
   ]
  },
  {
   "cell_type": "code",
   "execution_count": 7,
   "metadata": {
    "collapsed": true
   },
   "outputs": [],
   "source": [
    "os.chdir('/home/chujunyi/2_Program/2_output_file/3_drug_feature/3_MFs')"
   ]
  },
  {
   "cell_type": "code",
   "execution_count": 3,
   "metadata": {
    "collapsed": true
   },
   "outputs": [],
   "source": [
    "def read_fps_file(filename, first_line = 0):\n",
    "    with open(filename, 'r') as f:\n",
    "        fps = f.readlines()[first_line:]\n",
    "    fps = [eval(item.replace('\\n', '')) for item in fps]\n",
    "\n",
    "    fps_list = []\n",
    "    for item in fps:\n",
    "        if isinstance(item, tuple):\n",
    "            fps_list.append(sorted(list(item)))\n",
    "        else:\n",
    "            fps_list.append([item])\n",
    "\n",
    "    assert len(fps) == 580\n",
    "    return fps_list"
   ]
  },
  {
   "cell_type": "code",
   "execution_count": 4,
   "metadata": {
    "collapsed": true
   },
   "outputs": [],
   "source": [
    "def read_bitvector_fps(filename, ex = ''):\n",
    "    fps = pd.read_csv(filename, index_col = 0)\n",
    "    fps_list =  [[eval(item[len(ex):]) for item in fps.iloc[i,:][fps.iloc[i,:] == 1].index.tolist()] for i in range(fps.shape[0])]\n",
    "    assert len(fps_list) == 580\n",
    "    return fps_list"
   ]
  },
  {
   "cell_type": "code",
   "execution_count": 5,
   "metadata": {
    "collapsed": true,
    "scrolled": true
   },
   "outputs": [],
   "source": [
    "def if_equal(fp1, fp2, datanum = 580):\n",
    "    num = 0\n",
    "    for i in range(datanum):\n",
    "        if fp1[i] == fp2[i]: \n",
    "#             print('Common:'+ str(i), end = ',')\n",
    "            num += 1\n",
    "    print('相同的总数=',num)\n",
    "    return"
   ]
  },
  {
   "cell_type": "code",
   "execution_count": 6,
   "metadata": {
    "collapsed": true
   },
   "outputs": [],
   "source": [
    "def generate_fps_matrix(fps, shape_1, shape_2):\n",
    "    mat = np.zeros((shape_1, shape_2))\n",
    "    for idx, sample_fps in enumerate(fps):\n",
    "        mat[idx, sample_fps] = 1\n",
    "    return mat"
   ]
  },
  {
   "cell_type": "markdown",
   "metadata": {},
   "source": [
    "### Maccs \n",
    "http://www.scbdd.com/pybel_desc/fps-maccs/"
   ]
  },
  {
   "cell_type": "markdown",
   "metadata": {},
   "source": [
    "###### 文件选择 rdkit"
   ]
  },
  {
   "cell_type": "code",
   "execution_count": 7,
   "metadata": {
    "collapsed": true
   },
   "outputs": [],
   "source": [
    "def Maccs():\n",
    "    '''\n",
    "    PaDEL: 是给的166-bit的向量。\n",
    "    CDK(×): 该指纹识别器生成166位MACCS密钥。每个功能的SMARTS模式均来自RDKit。但是，鉴于没有正式和明确列出原始键定义，因此此实现的结果可能与其他结果有所不同。\n",
    "    Pybel(×): 没有125和166位，很神奇……\n",
    "    RDKit(√): 和排序后的Chemopy相同。\n",
    "    Chemopy(√): 排序后和RDKit相同。\n",
    "    '''\n",
    "    return"
   ]
  },
  {
   "cell_type": "code",
   "execution_count": 8,
   "metadata": {
    "collapsed": true
   },
   "outputs": [],
   "source": [
    "padel_maccs_list = read_bitvector_fps('nr_updated_PaDEL_MACCS_fps.csv', ex = 'MACCSFP')\n",
    "chemopy_maccs_list = read_fps_file('nr_updated_chemopy_MACCS_fps.csv', first_line = 1)\n",
    "rdkit_maccs_list = read_fps_file('nr_updated_RDKit_MACCS_fps.csv', first_line = 0)\n",
    "cdk_maccs_list= read_fps_file('nr_updated_CDK_Maccs_fps.csv', first_line = 0)\n",
    "pybel_maccs_list= read_fps_file('nr_updated_pybel_Maccs_fps.csv', first_line = 0)"
   ]
  },
  {
   "cell_type": "code",
   "execution_count": 9,
   "metadata": {},
   "outputs": [
    {
     "name": "stdout",
     "output_type": "stream",
     "text": [
      "相同的总数= 580\n",
      "相同的总数= 1\n",
      "相同的总数= 375\n",
      "相同的总数= 0\n",
      "相同的总数= 0\n",
      "相同的总数= 0\n",
      "相同的总数= 2\n"
     ]
    }
   ],
   "source": [
    "assert chemopy_maccs_list == rdkit_maccs_list\n",
    "if_equal(chemopy_maccs_list, rdkit_maccs_list)#使用这两个！\n",
    "if_equal(padel_maccs_list, rdkit_maccs_list)\n",
    "if_equal(pybel_maccs_list, rdkit_maccs_list)\n",
    "\n",
    "if_equal(cdk_maccs_list, rdkit_maccs_list)\n",
    "if_equal(cdk_maccs_list, padel_maccs_list)\n",
    "if_equal(cdk_maccs_list, pybel_maccs_list)\n",
    "if_equal(padel_maccs_list, pybel_maccs_list)"
   ]
  },
  {
   "cell_type": "markdown",
   "metadata": {},
   "source": [
    "### PubChem\n",
    "都试一下"
   ]
  },
  {
   "cell_type": "code",
   "execution_count": 10,
   "metadata": {},
   "outputs": [
    {
     "name": "stdout",
     "output_type": "stream",
     "text": [
      "相同的总数= 2\n"
     ]
    }
   ],
   "source": [
    "padel_pubchem_list = read_bitvector_fps('nr_updated_PaDEL_PubChem_fps.csv', ex = 'PubchemFP')\n",
    "cdk_pubchem_list = read_fps_file('nr_updated_CDK_PubChem_fps.csv', first_line = 0)\n",
    "if_equal(padel_pubchem_list, cdk_pubchem_list)"
   ]
  },
  {
   "cell_type": "code",
   "execution_count": 28,
   "metadata": {
    "collapsed": true
   },
   "outputs": [],
   "source": [
    "# num = 0\n",
    "# for i in range(580):\n",
    "#     print(len(padel_pubchem_list[i]), len(cdk_pubchem_list[i]))\n",
    "#     if len(padel_pubchem_list[i]) == len(cdk_pubchem_list[i]): num += 1\n",
    "# num"
   ]
  },
  {
   "cell_type": "code",
   "execution_count": 29,
   "metadata": {
    "collapsed": true
   },
   "outputs": [],
   "source": [
    "# '''\n",
    "# 在pubchem的search中输入smiles，点击Downloads，找到<PUBCHEM_CACTVS_SUBSKEYS>\n",
    "# https://pubchem.ncbi.nlm.nih.gov/rest/pug/compound/CID/578160/record/SDF/?record_type=2d&response_type=display\n",
    "# 使用下面网页的代码，得到881-D，但是结果与PaDEL和CDK均不相同……\n",
    "# https://chem.libretexts.org/Courses/Intercollegiate_Courses/Cheminformatics_OLCC_(2019)/6%3A_Molecular_Similarity/6.4%3A_Python_Assignment\n",
    "\n",
    "# '''\n",
    "# from base64 import b64decode\n",
    "\n",
    "# def PCFP_BitString(pcfp_base64) :\n",
    "\n",
    "#     pcfp_bitstring = \"\".join( [\"{:08b}\".format(x) for x in b64decode( pcfp_base64 )] )[32:913]\n",
    "#     return pcfp_bitstring\n",
    "    \n",
    "# pcfps = 'AAADcfB4OQAAAAAAAAAAAAAAAAAAAYAAAAAwYIAAAAAAAGDAAAAAGwAACAAAD1SggAICCAAABgCIAqDSCAIAAAAgAAAICAFAAEgAEBIAAQQCQAAFgAAIAYPIzPDPgAAAAAAAAADAAAYAADAAAYAADAAAAA=='\n",
    "# print( len(PCFP_BitString(pcfps)) )\n",
    "# # print(PCFP_BitString(pcfps))"
   ]
  },
  {
   "cell_type": "markdown",
   "metadata": {},
   "source": [
    "#### FP2 1024-D"
   ]
  },
  {
   "cell_type": "code",
   "execution_count": 13,
   "metadata": {
    "collapsed": true
   },
   "outputs": [],
   "source": [
    "pybel_fp2_list = read_fps_file('nr_updated_pybel_FP2_fps.csv', first_line = 0)"
   ]
  },
  {
   "cell_type": "markdown",
   "metadata": {},
   "source": [
    "#### Morgan \n",
    "https://www.rdkit.org/docs/GettingStartedInPython.html#morgan-fingerprints-circular-fingerprints\n",
    "###### 手动使用rdkit （2.2_v1_multilabel_updated_datasets用了r=4的）\n",
    "r=2约等于ECFP4"
   ]
  },
  {
   "cell_type": "code",
   "execution_count": 10,
   "metadata": {
    "collapsed": true
   },
   "outputs": [],
   "source": [
    "nr_1_100_smi = read_batch_smi('nr_updated_drug_smiles_1_100.smi')\n",
    "nr_101_200_smi = read_batch_smi('nr_updated_drug_smiles_101_200.smi')\n",
    "nr_201_300_smi = read_batch_smi('nr_updated_drug_smiles_201_300.smi')\n",
    "nr_301_400_smi = read_batch_smi('nr_updated_drug_smiles_301_400.smi')\n",
    "nr_401_500_smi = read_batch_smi('nr_updated_drug_smiles_401_500.smi')\n",
    "nr_501_580_smi = read_batch_smi('nr_updated_drug_smiles_501_580.smi')\n",
    "nr_580_smi = nr_1_100_smi + nr_101_200_smi + nr_201_300_smi + nr_301_400_smi + nr_401_500_smi + nr_501_580_smi\n",
    "assert len(nr_580_smi) == 580\n",
    "# nr_580_smi"
   ]
  },
  {
   "cell_type": "code",
   "execution_count": 11,
   "metadata": {
    "collapsed": true
   },
   "outputs": [],
   "source": [
    "def Morgan():\n",
    "    '''\n",
    "    RDKit: 默认参数中未指定radius，所以还是使用RDKit自己生成吧……\n",
    "    Chemopy: Fingerprints based on the Morgan algorithm.\n",
    "            很奇怪的数字，应该是还没有经过hash映射。维度高达4294967295？\n",
    "            详情可见RDKit中的Explaining bits from Morgan Fingerprints。\n",
    "    '''"
   ]
  },
  {
   "cell_type": "code",
   "execution_count": 12,
   "metadata": {
    "collapsed": true
   },
   "outputs": [],
   "source": [
    "rd_mols = [Chem.MolFromSmiles(smiles) for smiles in nr_580_smi]\n",
    "assert len(rd_mols) == 580"
   ]
  },
  {
   "cell_type": "code",
   "execution_count": 23,
   "metadata": {
    "collapsed": true
   },
   "outputs": [],
   "source": [
    "rdkit_morgan_mat = [list(AllChem.GetMorganFingerprintAsBitVect(mol, radius = 2, nBits = 2048)) for mol in rd_mols]\n",
    "assert len(rdkit_morgan_mat) == len(rd_mols)\n",
    "assert len(rdkit_morgan_mat[0]) == 2048"
   ]
  },
  {
   "cell_type": "code",
   "execution_count": 13,
   "metadata": {
    "collapsed": true
   },
   "outputs": [],
   "source": [
    "rdkit_morgan_mat4 = [list(AllChem.GetMorganFingerprintAsBitVect(mol, radius = 4, nBits = 2048)) for mol in rd_mols]\n",
    "assert len(rdkit_morgan_mat4) == len(rd_mols)\n",
    "assert len(rdkit_morgan_mat4[0]) == 2048"
   ]
  },
  {
   "cell_type": "markdown",
   "metadata": {},
   "source": [
    "#### GraphOnly:Specialized version of the CDK Fingerprinter which does not take bond orders into account.\n",
    "##### 用CDK吧……是原始的……"
   ]
  },
  {
   "cell_type": "code",
   "execution_count": 24,
   "metadata": {
    "collapsed": true
   },
   "outputs": [],
   "source": [
    "def GraphOnly():\n",
    "    '''\n",
    "    CDK:Specialized version of the CDK Fingerprinter which does not take bond orders into account.\n",
    "    PaDel:1024-D; CDK graph only fingerprints; Specialized version of the Fingerprinter which does not take bond orders into account.\n",
    "    \n",
    "    '''\n",
    "    return"
   ]
  },
  {
   "cell_type": "code",
   "execution_count": 25,
   "metadata": {},
   "outputs": [
    {
     "name": "stdout",
     "output_type": "stream",
     "text": [
      "相同的总数= 0\n"
     ]
    }
   ],
   "source": [
    "cdk_graph_list = read_fps_file('nr_updated_CDK_Graph_fps.csv', first_line = 0)\n",
    "padel_graph_list = read_bitvector_fps('nr_updated_PaDEL_GraphOnly_fps.csv', ex = 'GraphFP')\n",
    "if_equal(cdk_graph_list, padel_graph_list)"
   ]
  },
  {
   "cell_type": "markdown",
   "metadata": {},
   "source": [
    "### save_fp"
   ]
  },
  {
   "cell_type": "code",
   "execution_count": 26,
   "metadata": {
    "collapsed": true
   },
   "outputs": [],
   "source": [
    "rdkit_maccs_mat = generate_fps_matrix(rdkit_maccs_list, 580,167)\n",
    "padel_pubchem_mat = generate_fps_matrix(padel_pubchem_list, 580,881)\n",
    "cdk_pubchem_mat = generate_fps_matrix(cdk_pubchem_list, 580,881)\n",
    "pybel_fp2_mat = generate_fps_matrix(pybel_fp2_list, 580,1024)\n",
    "cdk_graph_mat = generate_fps_matrix(cdk_graph_list, 580,1024)\n",
    "# rdkit_morgan_mat"
   ]
  },
  {
   "cell_type": "code",
   "execution_count": 27,
   "metadata": {
    "collapsed": true
   },
   "outputs": [],
   "source": [
    "np.savez_compressed('/home/chujunyi/2_Program/2_output_file/3_drug_feature/4_processed_MDs_MFs/v1_nr_U_6fps.npz',\n",
    "                    rdkit_maccs_np = rdkit_maccs_mat,\n",
    "                    padel_pubchem_np = padel_pubchem_mat,\n",
    "                    cdk_pubchem_np = cdk_pubchem_mat,\n",
    "                    pybel_fp2_np = pybel_fp2_mat,\n",
    "                    cdk_graph_np = cdk_graph_mat,\n",
    "                    rdkit_morgan_np = rdkit_morgan_mat)"
   ]
  },
  {
   "cell_type": "markdown",
   "metadata": {},
   "source": [
    "# 处理MFs\n",
    "#### 1. 所有的MFs都是由/home/chujunyi/2_Program/0_data_sets/NR/nr_updated_drug_smiles.smi生成的sdf文件得到的，该文件称为smi_which_generate_fps。因此要首先将MFs与这个文件直接concat，得到MFs对应的smiles。\n",
    "#### 2. 找到smi_which_generate_fps中每个smiles对应的drug id，通过与源文件merge得到（/home/chujunyi/2_Program/0_data_sets/NR/updated_drug_smiles_dict.npy）。将这个结果保存到文件/home/chujunyi/2_Program/0_data_sets/NR/nr_updated_drug_id_smiles.csv\n",
    "#### 3. 将1.和2.的结果merge，得到MF对应的drug id"
   ]
  },
  {
   "cell_type": "code",
   "execution_count": 79,
   "metadata": {
    "collapsed": true
   },
   "outputs": [],
   "source": [
    "# drug_dict = np.load('/home/chujunyi/2_Program/0_data_sets/NR/updated_drug_smiles_dict.npy', allow_pickle = True).item()\n",
    "# drug_id_smiles = []\n",
    "# for d_id, smi in drug_dict.items():\n",
    "#     drug_id_smiles.append([d_id, smi])\n",
    "\n",
    "# drug_id_smiles = pd.DataFrame(drug_id_smiles, columns = ['drug_id', 'smiles'])"
   ]
  },
  {
   "cell_type": "code",
   "execution_count": 20,
   "metadata": {
    "collapsed": true
   },
   "outputs": [],
   "source": [
    "drug_smiles_gener_fp = read_batch_smi('nr_updated_drug_smiles.smi', pwd = '/home/chujunyi/2_Program/0_data_sets/NR/')\n",
    "drug_smiles_gener_fp = pd.DataFrame(drug_smiles_gener_fp, columns = ['smiles'])"
   ]
  },
  {
   "cell_type": "code",
   "execution_count": 6,
   "metadata": {
    "collapsed": true
   },
   "outputs": [],
   "source": [
    "# drug_smiles = pd.merge(drug_id_smiles, drug_smiles_gener_fp, on = 'smiles', indicator = False).drop_duplicates().reset_index(drop = True)\n",
    "# assert drug_smiles.shape == drug_id_smiles.shape\n",
    "# drug_smiles.to_csv('/home/chujunyi/2_Program/0_data_sets/NR/nr_updated_drug_id_smiles.csv', index = False)"
   ]
  },
  {
   "cell_type": "code",
   "execution_count": 21,
   "metadata": {
    "collapsed": true
   },
   "outputs": [],
   "source": [
    "drug_id_smiles = pd.read_csv('/home/chujunyi/2_Program/0_data_sets/NR/nr_updated_drug_id_smiles.csv')\n",
    "# drug_id_smiles.head()"
   ]
  },
  {
   "cell_type": "code",
   "execution_count": 23,
   "metadata": {
    "collapsed": true
   },
   "outputs": [],
   "source": [
    "with np.load('/home/chujunyi/2_Program/2_output_file/3_drug_feature/4_processed_MDs_MFs/v1_nr_U_6fps.npz', allow_pickle = True) as f:\n",
    "    rdkit_morgan = f['rdkit_morgan_np']\n",
    "    rdkit_maccs = f['rdkit_maccs_np']\n",
    "    padel_pubchem = f['padel_pubchem_np']\n",
    "    cdk_pubchem = f['cdk_pubchem_np']\n",
    "    pybel_fp2 = f['pybel_fp2_np']\n",
    "    cdk_graph = f['cdk_graph_np']"
   ]
  },
  {
   "cell_type": "code",
   "execution_count": 14,
   "metadata": {
    "collapsed": true
   },
   "outputs": [],
   "source": [
    "rdkit_morgan4 = rdkit_morgan_mat4"
   ]
  },
  {
   "cell_type": "markdown",
   "metadata": {},
   "source": [
    "### 去除全0和全1列 ；找到每个分子指纹对应的drug id"
   ]
  },
  {
   "cell_type": "code",
   "execution_count": 16,
   "metadata": {
    "collapsed": true
   },
   "outputs": [],
   "source": [
    "def filter_01_columns(fps_np, print_ = True):\n",
    "    fps = pd.DataFrame(fps_np)\n",
    "    fps_drop0 = fps.loc[:, ~(fps == 0).all()]\n",
    "    fps_drop1 = fps_drop0.loc[:, ~(fps_drop0 == 0).all()]\n",
    "    if print_: print('FPs shape: original = {}, filter0 = {}, filter1 = {}'.format(\n",
    "                     fps.shape, fps_drop0.shape, fps_drop1.shape))\n",
    "    return fps_drop1"
   ]
  },
  {
   "cell_type": "code",
   "execution_count": 17,
   "metadata": {
    "collapsed": true
   },
   "outputs": [],
   "source": [
    "def concat_id_to_fps(fps, smi_which_generate_fps, id_smi):\n",
    "    if not isinstance(fps, pd.core.frame.DataFrame): fps = pd.DataFrame(fps)\n",
    "    if not isinstance(smi_which_generate_fps, pd.core.frame.DataFrame): smi_which_generate_fps = pd.DataFrame(smi_which_generate_fps, columns = ['smiles'])\n",
    "    if not isinstance(id_smi, pd.core.frame.DataFrame): id_smi = pd.DataFrame(id_smi, columns = ['drug_id', 'smiles'])\n",
    "        \n",
    "    fp_merge_smi = pd.concat([smi_which_generate_fps, fps], axis = 1)\n",
    "    id_smi_fp = pd.merge(id_smi, fp_merge_smi, on = 'smiles').drop_duplicates().reset_index(drop = True)\n",
    "    assert id_smi_fp.shape == (fps.shape[0], fps.shape[1] + 2)\n",
    "    \n",
    "    return id_smi_fp"
   ]
  },
  {
   "cell_type": "code",
   "execution_count": 18,
   "metadata": {
    "collapsed": true
   },
   "outputs": [],
   "source": [
    "def all_procedure_process_fps(fps_np, smi_which_generate_fps, id_smi):\n",
    "    fps_filtered = filter_01_columns(fps_np)\n",
    "    fps_with_id = concat_id_to_fps(fps_filtered, smi_which_generate_fps, id_smi)\n",
    "    return fps_filtered, fps_with_id"
   ]
  },
  {
   "cell_type": "code",
   "execution_count": 27,
   "metadata": {},
   "outputs": [
    {
     "name": "stdout",
     "output_type": "stream",
     "text": [
      "FPs shape: original = (580, 2048), filter0 = (580, 1730), filter1 = (580, 1730)\n",
      "FPs shape: original = (580, 167), filter0 = (580, 156), filter1 = (580, 156)\n",
      "FPs shape: original = (580, 881), filter0 = (580, 558), filter1 = (580, 558)\n",
      "FPs shape: original = (580, 881), filter0 = (580, 488), filter1 = (580, 488)\n",
      "FPs shape: original = (580, 1024), filter0 = (580, 988), filter1 = (580, 988)\n",
      "FPs shape: original = (580, 1024), filter0 = (580, 848), filter1 = (580, 848)\n"
     ]
    }
   ],
   "source": [
    "_, rdkit_morgan_with_id = all_procedure_process_fps(rdkit_morgan, drug_smiles_gener_fp, drug_id_smiles)\n",
    "_, rdkit_maccs_with_id = all_procedure_process_fps(rdkit_maccs, drug_smiles_gener_fp, drug_id_smiles)\n",
    "_, padel_pubchem_with_id = all_procedure_process_fps(padel_pubchem, drug_smiles_gener_fp, drug_id_smiles)\n",
    "_, cdk_pubchem_with_id = all_procedure_process_fps(cdk_pubchem, drug_smiles_gener_fp, drug_id_smiles)\n",
    "_, pybel_fp2_with_id = all_procedure_process_fps(pybel_fp2, drug_smiles_gener_fp, drug_id_smiles)\n",
    "_, cdk_graph_with_id = all_procedure_process_fps(cdk_graph, drug_smiles_gener_fp, drug_id_smiles)"
   ]
  },
  {
   "cell_type": "code",
   "execution_count": 22,
   "metadata": {},
   "outputs": [
    {
     "name": "stdout",
     "output_type": "stream",
     "text": [
      "FPs shape: original = (580, 2048), filter0 = (580, 2037), filter1 = (580, 2037)\n"
     ]
    }
   ],
   "source": [
    "_, rdkit_morgan4_with_id = all_procedure_process_fps(rdkit_morgan4, drug_smiles_gener_fp, drug_id_smiles)"
   ]
  },
  {
   "cell_type": "code",
   "execution_count": 30,
   "metadata": {
    "collapsed": true
   },
   "outputs": [],
   "source": [
    "rdkit_morgan_with_id.to_csv('/home/chujunyi/2_Program/2_output_file/3_drug_feature/4_processed_MDs_MFs/nr_U_rdkit_morgan_with_id.csv', index = False)\n",
    "rdkit_maccs_with_id.to_csv('/home/chujunyi/2_Program/2_output_file/3_drug_feature/4_processed_MDs_MFs/nr_U_rdkit_maccs_with_id.csv', index = False)\n",
    "padel_pubchem_with_id.to_csv('/home/chujunyi/2_Program/2_output_file/3_drug_feature/4_processed_MDs_MFs/nr_U_padel_pubchem_with_id.csv', index = False)\n",
    "cdk_pubchem_with_id.to_csv('/home/chujunyi/2_Program/2_output_file/3_drug_feature/4_processed_MDs_MFs/nr_U_cdk_pubchem_with_id.csv', index = False)\n",
    "pybel_fp2_with_id.to_csv('/home/chujunyi/2_Program/2_output_file/3_drug_feature/4_processed_MDs_MFs/nr_U_pybel_fp2_with_id.csv', index = False)\n",
    "cdk_graph_with_id.to_csv('/home/chujunyi/2_Program/2_output_file/3_drug_feature/4_processed_MDs_MFs/nr_U_cdk_graph_with_id.csv', index = False)"
   ]
  },
  {
   "cell_type": "code",
   "execution_count": 23,
   "metadata": {
    "collapsed": true
   },
   "outputs": [],
   "source": [
    "rdkit_morgan4_with_id.to_csv('/home/chujunyi/2_Program/2_output_file/3_drug_feature/4_processed_MDs_MFs/nr_U_rdkit_morgan4_with_id.csv', index = False)"
   ]
  },
  {
   "cell_type": "code",
   "execution_count": null,
   "metadata": {
    "collapsed": true
   },
   "outputs": [],
   "source": []
  }
 ],
 "metadata": {
  "kernelspec": {
   "display_name": "python36",
   "language": "python",
   "name": "python36"
  },
  "language_info": {
   "codemirror_mode": {
    "name": "ipython",
    "version": 3
   },
   "file_extension": ".py",
   "mimetype": "text/x-python",
   "name": "python",
   "nbconvert_exporter": "python",
   "pygments_lexer": "ipython3",
   "version": "3.6.0"
  }
 },
 "nbformat": 4,
 "nbformat_minor": 2
}
