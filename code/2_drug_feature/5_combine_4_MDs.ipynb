{
 "cells": [
  {
   "cell_type": "code",
   "execution_count": 3,
   "metadata": {
    "collapsed": true
   },
   "outputs": [],
   "source": [
    "import numpy as np\n",
    "import pandas as pd\n",
    "np.set_printoptions(threshold=123456789)\n",
    "pd.set_option('display.max_rows', None)\n",
    "pd.set_option('display.max_columns', None)\n",
    "\n",
    "import math, random\n",
    "from collections import Counter\n",
    "from itertools import product\n",
    "from copy import deepcopy\n",
    "\n",
    "import os"
   ]
  },
  {
   "cell_type": "code",
   "execution_count": 13,
   "metadata": {
    "collapsed": true
   },
   "outputs": [],
   "source": [
    "pwd = '/home/chujunyi/2_Program/2_output_file/2_multilabel/1_X_Y_data/'\n",
    "cdk_mds = np.load(pwd + 'NR_U_T_xy_np_cdk_mds.npz')\n",
    "pybel_mds = np.load(pwd + 'NR_U_T_xy_np_pybel_mds.npz')\n",
    "rdkit_mds = np.load(pwd + 'NR_U_T_xy_np_rdkit_mds.npz')\n",
    "padel_mds = np.load(pwd + 'NR_U_T_xy_np_padel_mds.npz')\n",
    "x_t_np_cdk_mds, y_t_np_cdk_mds = cdk_mds['x_t_np'], cdk_mds['y_t_np']\n",
    "x_t_np_pybel_mds, y_t_np_pybel_mds = pybel_mds['x_t_np'], pybel_mds['y_t_np']\n",
    "x_t_np_rdkit_mds, y_t_np_rdkit_mds = rdkit_mds['x_t_np'], rdkit_mds['y_t_np']\n",
    "x_t_np_padel_mds, y_t_np_padel_mds = padel_mds['x_t_np'], padel_mds['y_t_np']"
   ]
  },
  {
   "cell_type": "code",
   "execution_count": 21,
   "metadata": {},
   "outputs": [
    {
     "data": {
      "text/plain": [
       "((541, 169), (541, 14), (541, 177), (541, 1239))"
      ]
     },
     "execution_count": 21,
     "metadata": {},
     "output_type": "execute_result"
    }
   ],
   "source": [
    "x_t_np_cdk_mds.shape, x_t_np_pybel_mds.shape, x_t_np_rdkit_mds.shape ,x_t_np_padel_mds.shape"
   ]
  },
  {
   "cell_type": "code",
   "execution_count": 6,
   "metadata": {
    "collapsed": true
   },
   "outputs": [],
   "source": [
    "assert (y_t_np_cdk_mds == y_t_np_pybel_mds).all()\n",
    "assert (y_t_np_cdk_mds == y_t_np_rdkit_mds).all()\n",
    "assert (y_t_np_cdk_mds == y_t_np_padel_mds).all()"
   ]
  },
  {
   "cell_type": "code",
   "execution_count": 20,
   "metadata": {
    "collapsed": true
   },
   "outputs": [],
   "source": [
    "temp = np.hstack([x_t_np_cdk_mds, x_t_np_pybel_mds])\n",
    "temp = np.hstack([temp, x_t_np_rdkit_mds])\n",
    "combined_mds = np.hstack([temp, x_t_np_padel_mds])\n",
    "assert combined_mds.shape[0] == x_t_np_cdk_mds.shape[0]\n",
    "assert combined_mds.shape[1] == x_t_np_cdk_mds.shape[1] + x_t_np_pybel_mds.shape[1] + x_t_np_rdkit_mds.shape[1] + x_t_np_padel_mds.shape[1]"
   ]
  },
  {
   "cell_type": "code",
   "execution_count": 25,
   "metadata": {
    "collapsed": true
   },
   "outputs": [],
   "source": [
    "combined_mds_drop_duplicates = np.unique(combined_mds, axis=1)"
   ]
  },
  {
   "cell_type": "code",
   "execution_count": 26,
   "metadata": {},
   "outputs": [
    {
     "data": {
      "text/plain": [
       "((541, 1599), (541, 1521))"
      ]
     },
     "execution_count": 26,
     "metadata": {},
     "output_type": "execute_result"
    }
   ],
   "source": [
    "combined_mds.shape, combined_mds_drop_duplicates.shape"
   ]
  },
  {
   "cell_type": "code",
   "execution_count": 27,
   "metadata": {
    "collapsed": true
   },
   "outputs": [],
   "source": [
    "np.savez_compressed(pwd + 'NR_U_T_xy_np_combined_4mds.npz', x_t_np = combined_mds_drop_duplicates, y_t_np = y_t_np_cdk_mds)"
   ]
  },
  {
   "cell_type": "markdown",
   "metadata": {},
   "source": [
    "# def"
   ]
  },
  {
   "cell_type": "code",
   "execution_count": 14,
   "metadata": {
    "collapsed": true
   },
   "outputs": [],
   "source": [
    "def combine_4mds(target):\n",
    "    pwd = '/home/chujunyi/2_Program/2_output_file/2_multilabel/1_X_Y_data/'\n",
    "    cdk_mds = np.load(pwd + target + '_U_T_xy_np_MD_CDK.npz')\n",
    "    pybel_mds = np.load(pwd + target + '_U_T_xy_np_MD_PYB.npz')\n",
    "    rdkit_mds = np.load(pwd + target + '_U_T_xy_np_MD_RDK.npz')\n",
    "    padel_mds = np.load(pwd + target + '_U_T_xy_np_MD_PAD.npz')\n",
    "    \n",
    "    x_t_np_cdk_mds, y_t_np_cdk_mds = cdk_mds['x_t_np'], cdk_mds['y_t_np']\n",
    "    x_t_np_pybel_mds, y_t_np_pybel_mds = pybel_mds['x_t_np'], pybel_mds['y_t_np']\n",
    "    x_t_np_rdkit_mds, y_t_np_rdkit_mds = rdkit_mds['x_t_np'], rdkit_mds['y_t_np']\n",
    "    x_t_np_padel_mds, y_t_np_padel_mds = padel_mds['x_t_np'], padel_mds['y_t_np']\n",
    "    \n",
    "    x_t_np_cdk_mds, y_t_np_cdk_mds, cdk_drugs = cdk_mds['x_t_np'], cdk_mds['y_t_np'], cdk_mds['drug_ids']\n",
    "    x_t_np_pybel_mds, y_t_np_pybel_mds, pybel_drugs = pybel_mds['x_t_np'], pybel_mds['y_t_np'], pybel_mds['drug_ids']\n",
    "    x_t_np_rdkit_mds, y_t_np_rdkit_mds, rdkit_drugs = rdkit_mds['x_t_np'], rdkit_mds['y_t_np'], rdkit_mds['drug_ids']\n",
    "    x_t_np_padel_mds, y_t_np_padel_mds, padel_drugs = padel_mds['x_t_np'], padel_mds['y_t_np'], padel_mds['drug_ids']\n",
    "    assert (y_t_np_cdk_mds == y_t_np_pybel_mds).all()\n",
    "    assert (y_t_np_cdk_mds == y_t_np_rdkit_mds).all()\n",
    "    assert (y_t_np_cdk_mds == y_t_np_padel_mds).all()\n",
    "    print(x_t_np_cdk_mds.shape, x_t_np_pybel_mds.shape, x_t_np_rdkit_mds.shape, x_t_np_padel_mds.shape)\n",
    "    \n",
    "    temp = np.hstack([x_t_np_cdk_mds, x_t_np_pybel_mds])\n",
    "    temp = np.hstack([temp, x_t_np_rdkit_mds])\n",
    "    combined_mds = np.hstack([temp, x_t_np_padel_mds])\n",
    "    assert combined_mds.shape[0] == x_t_np_cdk_mds.shape[0]\n",
    "    assert combined_mds.shape[1] == x_t_np_cdk_mds.shape[1] + x_t_np_pybel_mds.shape[1] + x_t_np_rdkit_mds.shape[1] + x_t_np_padel_mds.shape[1]\n",
    "    \n",
    "    combined_mds_drop_duplicates = np.unique(combined_mds, axis=1)\n",
    "    print(combined_mds.shape, combined_mds_drop_duplicates.shape)\n",
    "    \n",
    "    file = np.savez_compressed(pwd + target + '_U_T_xy_np_combined_4mds.npz', \n",
    "                        x_t_np = combined_mds_drop_duplicates, \n",
    "                        y_t_np = y_t_np_cdk_mds,\n",
    "                        norm_idx = np.array(range(combined_mds_drop_duplicates.shape[1])))\n",
    "    return file  "
   ]
  },
  {
   "cell_type": "code",
   "execution_count": 11,
   "metadata": {},
   "outputs": [
    {
     "name": "stdout",
     "output_type": "stream",
     "text": [
      "(1680, 142) (1680, 14) (1680, 176) (1680, 1137)\n",
      "(1680, 1469) (1680, 1468)\n",
      "(765, 145) (765, 14) (765, 179) (765, 1176)\n",
      "(765, 1514) (765, 1510)\n",
      "(1777, 149) (1777, 14) (1777, 180) (1777, 1095)\n",
      "(1777, 1438) (1777, 1437)\n"
     ]
    }
   ],
   "source": [
    "gpcr_combined_npz = combine_4mds('GPCR')\n",
    "ic_combined_npz = combine_4mds('IC')\n",
    "e_combined_npz = combine_4mds('E')"
   ]
  },
  {
   "cell_type": "code",
   "execution_count": null,
   "metadata": {
    "collapsed": true
   },
   "outputs": [],
   "source": [
    "pwd = '/home/chujunyi/2_Program/2_output_file/2_multilabel/1_X_Y_data/'\n",
    "cdk_mds = np.load(pwd + 'NR_U_T_xy_np_cdk_mds.npz')\n",
    "pybel_mds = np.load(pwd + 'NR_U_T_xy_np_pybel_mds.npz')\n",
    "rdkit_mds = np.load(pwd + 'NR_U_T_xy_np_rdkit_mds.npz')\n",
    "padel_mds = np.load(pwd + 'NR_U_T_xy_np_padel_mds.npz')"
   ]
  },
  {
   "cell_type": "markdown",
   "metadata": {},
   "source": [
    "# 加上drug_ids"
   ]
  },
  {
   "cell_type": "code",
   "execution_count": 18,
   "metadata": {
    "collapsed": true
   },
   "outputs": [],
   "source": [
    "def combine_4mds_2(target):\n",
    "    pwd = '/home/chujunyi/2_Program/2_output_file/2_multilabel/1_X_Y_data/'\n",
    "    cdk_mds = np.load(pwd + target + '_U_T_xy_np_MD_CDK.npz')\n",
    "    pybel_mds = np.load(pwd + target + '_U_T_xy_np_MD_PYB.npz')\n",
    "    rdkit_mds = np.load(pwd + target + '_U_T_xy_np_MD_RDK.npz')\n",
    "    padel_mds = np.load(pwd + target + '_U_T_xy_np_MD_PAD.npz')\n",
    "    \n",
    "    \n",
    "    x_t_np_cdk_mds, y_t_np_cdk_mds, cdk_drugs = cdk_mds['x_t_np'], cdk_mds['y_t_np'], cdk_mds['drug_ids']\n",
    "    x_t_np_pybel_mds, y_t_np_pybel_mds, pybel_drugs = pybel_mds['x_t_np'], pybel_mds['y_t_np'], pybel_mds['drug_ids']\n",
    "    x_t_np_rdkit_mds, y_t_np_rdkit_mds, rdkit_drugs = rdkit_mds['x_t_np'], rdkit_mds['y_t_np'], rdkit_mds['drug_ids']\n",
    "    x_t_np_padel_mds, y_t_np_padel_mds, padel_drugs = padel_mds['x_t_np'], padel_mds['y_t_np'], padel_mds['drug_ids']\n",
    "    \n",
    "    assert (pybel_drugs == cdk_drugs).all()\n",
    "    assert (rdkit_drugs == cdk_drugs).all()\n",
    "    assert (padel_drugs == cdk_drugs).all()\n",
    "    \n",
    "    assert (y_t_np_cdk_mds == y_t_np_pybel_mds).all()\n",
    "    assert (y_t_np_cdk_mds == y_t_np_rdkit_mds).all()\n",
    "    assert (y_t_np_cdk_mds == y_t_np_padel_mds).all()\n",
    "    print(x_t_np_cdk_mds.shape, x_t_np_pybel_mds.shape, x_t_np_rdkit_mds.shape, x_t_np_padel_mds.shape)\n",
    "    \n",
    "    temp = np.hstack([x_t_np_cdk_mds, x_t_np_pybel_mds])\n",
    "    temp = np.hstack([temp, x_t_np_rdkit_mds])\n",
    "    combined_mds = np.hstack([temp, x_t_np_padel_mds])\n",
    "    assert combined_mds.shape[0] == x_t_np_cdk_mds.shape[0]\n",
    "    assert combined_mds.shape[1] == x_t_np_cdk_mds.shape[1] + x_t_np_pybel_mds.shape[1] + x_t_np_rdkit_mds.shape[1] + x_t_np_padel_mds.shape[1]\n",
    "    \n",
    "    combined_mds_drop_duplicates = np.unique(combined_mds, axis=1)\n",
    "    print(combined_mds.shape, combined_mds_drop_duplicates.shape)\n",
    "    \n",
    "    file = np.savez_compressed(pwd + 'v2_' + target + '_U_T_xy_np_combined_4mds.npz', \n",
    "                        x_t_np = combined_mds_drop_duplicates, \n",
    "                        y_t_np = y_t_np_cdk_mds,\n",
    "                        norm_idx = np.array(range(combined_mds_drop_duplicates.shape[1])),\n",
    "                        drug_ids = cdk_drugs)\n",
    "    return file  "
   ]
  },
  {
   "cell_type": "code",
   "execution_count": 19,
   "metadata": {},
   "outputs": [
    {
     "name": "stdout",
     "output_type": "stream",
     "text": [
      "(765, 145) (765, 14) (765, 179) (765, 1176)\n",
      "(765, 1514) (765, 1510)\n",
      "(1777, 149) (1777, 14) (1777, 180) (1777, 1095)\n",
      "(1777, 1438) (1777, 1437)\n"
     ]
    }
   ],
   "source": [
    "ic_combined_npz = combine_4mds_2('IC')\n",
    "e_combined_npz = combine_4mds_2('E')"
   ]
  },
  {
   "cell_type": "code",
   "execution_count": null,
   "metadata": {
    "collapsed": true
   },
   "outputs": [],
   "source": []
  }
 ],
 "metadata": {
  "kernelspec": {
   "display_name": "python36",
   "language": "python",
   "name": "python36"
  },
  "language_info": {
   "codemirror_mode": {
    "name": "ipython",
    "version": 3
   },
   "file_extension": ".py",
   "mimetype": "text/x-python",
   "name": "python",
   "nbconvert_exporter": "python",
   "pygments_lexer": "ipython3",
   "version": "3.6.0"
  }
 },
 "nbformat": 4,
 "nbformat_minor": 2
}
