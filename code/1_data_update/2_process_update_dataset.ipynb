{
 "cells": [
  {
   "cell_type": "code",
   "execution_count": 1,
   "metadata": {
    "collapsed": true
   },
   "outputs": [],
   "source": [
    "import sys\n",
    "sys.path.append('/home/chujunyi/2_Program/1_code/1_construct_dataset')\n",
    "from process_scrapy_data__generate_dti import *"
   ]
  },
  {
   "cell_type": "code",
   "execution_count": 2,
   "metadata": {},
   "outputs": [
    {
     "name": "stdout",
     "output_type": "stream",
     "text": [
      "dtis_keggid.shape = (5515, 2), dtis_dbid.shape = (446, 2), dti_data.shape = (5961, 2)\n",
      "# Target = 166; # Drug = 1901: KEGG = 1764, DB = 137\n"
     ]
    }
   ],
   "source": [
    "dataset_name = 'GPCR' ###\n",
    "pwd = '/home/chujunyi/2_Program/2_output_file/1_construct_dataset/2_obtain_new_data/' ###\n",
    "filename = '2_GPCR_KEGGBRITE-Uniprot-DrugBank_DTIs.npz' ###\n",
    "dti_data, dtis_keggid, dtis_dbid, drugs_keggid, drugs_dbid, targets_all = load_dti_data(pwd, filename)"
   ]
  },
  {
   "cell_type": "markdown",
   "metadata": {},
   "source": [
    "# 爬取smiles, aa sequence"
   ]
  },
  {
   "cell_type": "code",
   "execution_count": 3,
   "metadata": {},
   "outputs": [
    {
     "name": "stderr",
     "output_type": "stream",
     "text": [
      "100%|██████████| 166/166 [01:54<00:00,  1.30it/s]\n"
     ]
    }
   ],
   "source": [
    "error_target = kegg_retrieve_target(targets_all, dataset_name)"
   ]
  },
  {
   "cell_type": "code",
   "execution_count": 4,
   "metadata": {},
   "outputs": [
    {
     "name": "stderr",
     "output_type": "stream",
     "text": [
      "100%|██████████| 1764/1764 [27:00<00:00,  1.11it/s]\n",
      "100%|██████████| 110/110 [01:39<00:00,  1.12it/s]\n"
     ]
    }
   ],
   "source": [
    "error_kegg_drug = kegg_retrieve_drug(drugs_keggid, dataset_name)\n",
    "error_kegg_drug_2 = kegg_retrieve_drug(error_kegg_drug, dataset_name)"
   ]
  },
  {
   "cell_type": "code",
   "execution_count": 5,
   "metadata": {},
   "outputs": [
    {
     "name": "stderr",
     "output_type": "stream",
     "text": [
      "100%|██████████| 137/137 [02:21<00:00,  1.44s/it]\n",
      "100%|██████████| 4/4 [00:03<00:00,  1.13it/s]\n"
     ]
    }
   ],
   "source": [
    "error_db_drug = drugbank_retrieve_drug(drugs_dbid, dataset = dataset_name)\n",
    "error_db_drug_2 = drugbank_retrieve_drug(error_db_drug, dataset = dataset_name)"
   ]
  },
  {
   "cell_type": "code",
   "execution_count": 6,
   "metadata": {},
   "outputs": [
    {
     "data": {
      "text/plain": [
       "(109, 4, 'D08571', 'DB11130')"
      ]
     },
     "execution_count": 6,
     "metadata": {},
     "output_type": "execute_result"
    }
   ],
   "source": [
    "len(error_kegg_drug_2), len(error_db_drug_2), error_kegg_drug_2[0],error_db_drug_2[0]"
   ]
  },
  {
   "cell_type": "code",
   "execution_count": 7,
   "metadata": {},
   "outputs": [
    {
     "name": "stderr",
     "output_type": "stream",
     "text": [
      "100%|██████████| 109/109 [02:04<00:00,  1.20s/it]\n"
     ]
    },
    {
     "data": {
      "text/plain": [
       "92"
      ]
     },
     "execution_count": 7,
     "metadata": {},
     "output_type": "execute_result"
    }
   ],
   "source": [
    "error_kegg_drug_3 = scrapy_kegg_nosmiles_id(error_kegg_drug_2, dataset_name)\n",
    "len(error_kegg_drug_3)"
   ]
  },
  {
   "cell_type": "code",
   "execution_count": 8,
   "metadata": {},
   "outputs": [
    {
     "data": {
      "text/plain": [
       "96"
      ]
     },
     "execution_count": 8,
     "metadata": {},
     "output_type": "execute_result"
    }
   ],
   "source": [
    "error_kegg_drug_3.extend(error_db_drug_2)\n",
    "len(error_kegg_drug_3)"
   ]
  },
  {
   "cell_type": "markdown",
   "metadata": {},
   "source": [
    "# 删掉没找到smiles的dti"
   ]
  },
  {
   "cell_type": "raw",
   "metadata": {},
   "source": [
    "pwd = '/home/chujunyi/2_Program/0_data_sets/' + dataset_name + '/'\n",
    "drug_dict = np.load(pwd + dataset_name + '_updated_drug_smiles_dict.npy', allow_pickle = True).item()\n",
    "drug_id_smiles = pd.read_csv(pwd + dataset_name + '_updated_drug_id_smiles.csv')"
   ]
  },
  {
   "cell_type": "code",
   "execution_count": 10,
   "metadata": {},
   "outputs": [
    {
     "name": "stderr",
     "output_type": "stream",
     "text": [
      "  3%|▎         | 46/1805 [00:00<00:03, 459.28it/s]"
     ]
    },
    {
     "name": "stdout",
     "output_type": "stream",
     "text": [
      "Original data: dti_data.shape = (5961, 2)\n",
      "After delete: dti_data.shape = (5785, 2), # drugs = 1805, # targets = 156\n"
     ]
    },
    {
     "name": "stderr",
     "output_type": "stream",
     "text": [
      "100%|██████████| 1805/1805 [00:03<00:00, 561.77it/s]\n"
     ]
    }
   ],
   "source": [
    "non_smiles_drugs_id_list = deepcopy(error_kegg_drug_3)\n",
    "dti_data, drug_list, target_list = delete_no_smiles_dtis(dti_data, non_smiles_drugs_id_list)\n",
    "drug_dict, drug_id_smiles = obtain_drug_id_smiles_df(drug_list, data_set = dataset_name, save_ = True)\n",
    "assert drug_id_smiles.shape[0] == len(drug_dict) == len(drug_list)"
   ]
  },
  {
   "cell_type": "code",
   "execution_count": 17,
   "metadata": {},
   "outputs": [
    {
     "name": "stdout",
     "output_type": "stream",
     "text": [
      "# repeat_smi = 116, # repeat_id = 241\n",
      "# all_replaced_dtis =  527\n",
      "Original dti_data.shape =  (5785, 2)\n",
      "After delete, dti_data.shape =  (4856, 2)\n",
      "After impute, final dti_data with smiles shape =  (5383, 3)\n"
     ]
    }
   ],
   "source": [
    "repeat_smi_id, all_repeat_id  = find_repeated_smi_id(drug_id_smiles)\n",
    "all_replaced_dtis = obtain_replaced_repeated_dtis(dtis_dbid, dtis_keggid, repeat_smi_id, print_ = False)\n",
    "final_dti_data_with_smiles = delete_impute_repeated_dtis(dti_data, all_repeat_id, all_replaced_dtis)"
   ]
  },
  {
   "cell_type": "code",
   "execution_count": 18,
   "metadata": {},
   "outputs": [
    {
     "data": {
      "text/plain": [
       "((5383, 3), 1680, 156)"
      ]
     },
     "execution_count": 18,
     "metadata": {},
     "output_type": "execute_result"
    }
   ],
   "source": [
    "final_dti_data_with_smiles.shape, len(set(final_dti_data_with_smiles['smiles'])), len(set(final_dti_data_with_smiles['hsa_id']))"
   ]
  },
  {
   "cell_type": "code",
   "execution_count": 19,
   "metadata": {
    "collapsed": true
   },
   "outputs": [],
   "source": [
    "pwd = '/home/chujunyi/2_Program/2_output_file/1_construct_dataset/3_drop_repeat_smiles_from2folder/'\n",
    "filename = 'v2' + dataset_name + '_updated_drug_smiles_ids_drop_repeated.csv'\n",
    "final_dti_data_with_smiles.to_csv(pwd + filename, index = False)"
   ]
  },
  {
   "cell_type": "markdown",
   "metadata": {
    "collapsed": true
   },
   "source": [
    "# Target"
   ]
  },
  {
   "cell_type": "code",
   "execution_count": 20,
   "metadata": {},
   "outputs": [],
   "source": [
    "generate_all_target_fasta_file(targets_all, data_set = 'GPCR')"
   ]
  }
 ],
 "metadata": {
  "kernelspec": {
   "display_name": "python36",
   "language": "python",
   "name": "python36"
  },
  "language_info": {
   "codemirror_mode": {
    "name": "ipython",
    "version": 3
   },
   "file_extension": ".py",
   "mimetype": "text/x-python",
   "name": "python",
   "nbconvert_exporter": "python",
   "pygments_lexer": "ipython3",
   "version": "3.6.0"
  }
 },
 "nbformat": 4,
 "nbformat_minor": 2
}
