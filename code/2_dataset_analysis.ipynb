{
 "cells": [
  {
   "cell_type": "code",
   "execution_count": 2,
   "metadata": {},
   "outputs": [],
   "source": [
    "import pandas as pd\n",
    "import numpy as np\n",
    "np.set_printoptions(threshold = np.inf)\n",
    "pd.set_option('display.max_rows', None)\n",
    "pd.set_option('display.max_columns', None)\n",
    "\n",
    "import networkx as nx\n",
    "from networkx.algorithms import bipartite\n",
    "import matplotlib.pyplot as plt\n",
    "from collections import Counter"
   ]
  },
  {
   "cell_type": "code",
   "execution_count": 72,
   "metadata": {},
   "outputs": [],
   "source": [
    "def read_original_data(dataset_name = 'nr'):\n",
    "    pwd = '/home/chujunyi/1_MFDF/1_original_data/' + str.upper(dataset_name) + '/'\n",
    "    filename = dataset_name + '_admat_dgc_mat_2_line.txt'\n",
    "    with open(pwd + filename, 'r') as f:\n",
    "        data = f.readlines()\n",
    "    print('# DTI = ', len(data))\n",
    "    \n",
    "    data = [tuple(item.replace('\\n', '').split('\\t')) for item in data]\n",
    "    return data"
   ]
  },
  {
   "cell_type": "code",
   "execution_count": 59,
   "metadata": {},
   "outputs": [],
   "source": [
    "def read_updated_data(dataset_name = 'nr'):\n",
    "    pwd = '/home/chujunyi/2_Program/2_output_file/1_construct_dataset/3_drop_repeat_smiles_from2folder/'\n",
    "    filename = 'v2_' + dataset_name + '_updated_drug_smiles_ids_drop_repeated.csv'\n",
    "    \n",
    "    data = pd.read_csv(pwd + filename)\n",
    "    data = data[['drug_id', 'hsa_id']].apply(tuple, axis=1).tolist()\n",
    "    print('# DTI = ', len(data))\n",
    "    return data"
   ]
  },
  {
   "cell_type": "code",
   "execution_count": 112,
   "metadata": {
    "collapsed": true
   },
   "outputs": [],
   "source": [
    "def calc_data(data):\n",
    "    drugs = list(set(np.array(data)[:,0]))\n",
    "    targets = list(set(np.array(data)[:,1]))\n",
    "    nd, nt, ndti = len(drugs), len(targets), len(data)\n",
    "    print('# drugs = {}, # targets = {}, # DTI = {}'.format(nd, nt, ndti))\n",
    "    \n",
    "    bg = nx.Graph() # bg = bipartite graph\n",
    "    bg.add_nodes_from(drugs, bipartite = 'drug')\n",
    "    bg.add_nodes_from(targets, bipartite = 'target')\n",
    "    bg.add_edges_from(data)\n",
    "    assert nx.is_bipartite(bg) == True\n",
    "    print('nx.is_connected(bg): ', nx.is_connected(bg))\n",
    "\n",
    "    target_nodes = set(n for n,d in bg.nodes(data=True) if d['bipartite']=='target')\n",
    "    drug_nodes = set(bg) - target_nodes\n",
    "    assert len(target_nodes) == len(targets)\n",
    "    assert len(drug_nodes) == len(drugs)\n",
    "\n",
    "    density = bipartite.density(bg, drug_nodes)\n",
    "    assert density == ndti / (nd * nt)\n",
    "    \n",
    "    target_degrees, drug_degrees = bipartite.degrees(bg, drug_nodes, 1)\n",
    "    Dd_1 = Counter(list(dict(drug_degrees).values()))[1] / nd\n",
    "    Dt_1 = Counter(list(dict(target_degrees).values()))[1] / nt\n",
    "    \n",
    "    print('Density (%) = {:.2f}'.format(density * 100))\n",
    "    print('Dd = {:.2f}, Dt = {:.2f}'.format(ndti / nd, ndti / nt))\n",
    "    print('[Dd = 1] (%) = {:.2f}, [Dt = 1] (%) = {:.2f}'.format(Dd_1 * 100, Dt_1 * 100))\n",
    "    return"
   ]
  },
  {
   "cell_type": "code",
   "execution_count": 110,
   "metadata": {
    "collapsed": true
   },
   "outputs": [],
   "source": [
    "def show_stat(o_dataset_name = 'nr', u_dataset_name = 'nr'):\n",
    "    print('\\n==========' + str.upper(o_dataset_name) + '   Original dataset info:')\n",
    "    o_data = read_original_data(dataset_name = o_dataset_name)\n",
    "    calc_data(o_data)\n",
    "    print('\\n==========' + str.upper(o_dataset_name) + '   Updated dataset info:')\n",
    "    u_data = read_updated_data(dataset_name = u_dataset_name)\n",
    "    calc_data(u_data)\n",
    "    return"
   ]
  },
  {
   "cell_type": "code",
   "execution_count": 113,
   "metadata": {},
   "outputs": [
    {
     "name": "stdout",
     "output_type": "stream",
     "text": [
      "\n",
      "==========NR   Original dataset info:\n",
      "# DTI =  90\n",
      "# drugs = 54, # targets = 26, # DTI = 90\n",
      "nx.is_connected(bg):  False\n",
      "Density (%) = 6.41\n",
      "Dd = 1.67, Dt = 3.46\n",
      "[Dd = 1] (%) = 72.22, [Dt = 1] (%) = 30.77\n",
      "\n",
      "==========NR   Updated dataset info:\n",
      "# DTI =  886\n",
      "# drugs = 541, # targets = 33, # DTI = 886\n",
      "nx.is_connected(bg):  False\n",
      "Density (%) = 4.96\n",
      "Dd = 1.64, Dt = 26.85\n",
      "[Dd = 1] (%) = 65.99, [Dt = 1] (%) = 18.18\n",
      "\n",
      "==========GPCR   Original dataset info:\n",
      "# DTI =  635\n",
      "# drugs = 223, # targets = 95, # DTI = 635\n",
      "nx.is_connected(bg):  False\n",
      "Density (%) = 3.00\n",
      "Dd = 2.85, Dt = 6.68\n",
      "[Dd = 1] (%) = 47.53, [Dt = 1] (%) = 35.79\n",
      "\n",
      "==========GPCR   Updated dataset info:\n",
      "# DTI =  5383\n",
      "# drugs = 1680, # targets = 156, # DTI = 5383\n",
      "nx.is_connected(bg):  False\n",
      "Density (%) = 2.05\n",
      "Dd = 3.20, Dt = 34.51\n",
      "[Dd = 1] (%) = 46.13, [Dt = 1] (%) = 14.74\n",
      "\n",
      "==========IC   Original dataset info:\n",
      "# DTI =  1476\n",
      "# drugs = 210, # targets = 204, # DTI = 1476\n",
      "nx.is_connected(bg):  False\n",
      "Density (%) = 3.45\n",
      "Dd = 7.03, Dt = 7.24\n",
      "[Dd = 1] (%) = 38.57, [Dt = 1] (%) = 11.27\n",
      "\n",
      "==========IC   Updated dataset info:\n",
      "# DTI =  6385\n",
      "# drugs = 765, # targets = 238, # DTI = 6385\n",
      "nx.is_connected(bg):  False\n",
      "Density (%) = 3.51\n",
      "Dd = 8.35, Dt = 26.83\n",
      "[Dd = 1] (%) = 21.70, [Dt = 1] (%) = 8.82\n",
      "\n",
      "==========E   Original dataset info:\n",
      "# DTI =  2926\n",
      "# drugs = 445, # targets = 664, # DTI = 2926\n",
      "nx.is_connected(bg):  False\n",
      "Density (%) = 0.99\n",
      "Dd = 6.58, Dt = 4.41\n",
      "[Dd = 1] (%) = 39.78, [Dt = 1] (%) = 43.37\n",
      "\n",
      "==========E   Updated dataset info:\n",
      "# DTI =  7371\n",
      "# drugs = 1777, # targets = 1411, # DTI = 7371\n",
      "nx.is_connected(bg):  False\n",
      "Density (%) = 0.29\n",
      "Dd = 4.15, Dt = 5.22\n",
      "[Dd = 1] (%) = 45.24, [Dt = 1] (%) = 37.99\n"
     ]
    }
   ],
   "source": [
    "show_stat(o_dataset_name = 'nr', u_dataset_name = 'nr')\n",
    "show_stat(o_dataset_name = 'gpcr', u_dataset_name = 'GPCR')\n",
    "show_stat(o_dataset_name = 'ic', u_dataset_name = 'IC')\n",
    "show_stat(o_dataset_name = 'e', u_dataset_name = 'E')"
   ]
  },
  {
   "cell_type": "code",
   "execution_count": null,
   "metadata": {
    "collapsed": true
   },
   "outputs": [],
   "source": []
  }
 ],
 "metadata": {
  "kernelspec": {
   "display_name": "Python 3",
   "language": "python",
   "name": "python3"
  },
  "language_info": {
   "codemirror_mode": {
    "name": "ipython",
    "version": 3
   },
   "file_extension": ".py",
   "mimetype": "text/x-python",
   "name": "python",
   "nbconvert_exporter": "python",
   "pygments_lexer": "ipython3",
   "version": "3.6.0"
  }
 },
 "nbformat": 4,
 "nbformat_minor": 2
}
