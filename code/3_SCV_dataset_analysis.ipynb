{
 "cells": [
  {
   "cell_type": "code",
   "execution_count": 85,
   "metadata": {},
   "outputs": [
    {
     "name": "stdout",
     "output_type": "stream",
     "text": [
      "51\n",
      "57\n",
      "54\n",
      "54\n",
      "55\n",
      "53\n",
      "56\n",
      "56\n",
      "55\n",
      "50\n"
     ]
    },
    {
     "data": {
      "text/plain": [
       "True"
      ]
     },
     "execution_count": 85,
     "metadata": {},
     "output_type": "execute_result"
    }
   ],
   "source": [
    "import sys\n",
    "sys.path.append('/home/chujunyi/2_Program/1_code/3.1_multilabel')\n",
    "from train_model_funcs import *\n",
    "from sklearn.naive_bayes import GaussianNB\n",
    "###\n",
    "pwd = '/home/chujunyi/2_Program/2_output_file/2_multilabel/1_X_Y_data/'\n",
    "filename = 'v2_NR_U_T_xy_np_rdkit_morgan_radius2.npz'\n",
    "###\n",
    "with np.load(pwd + filename, allow_pickle = True) as f:\n",
    "    x = f['x_t_np']\n",
    "    y = f['y_t_np']\n",
    "    \n",
    "rmskf = RepeatedMultilabelStratifiedKFold(n_splits = 10, n_repeats = 1, random_state = 19961231)\n",
    "\n",
    "if not isinstance(x, np.ndarray) and not isinstance(y, np.ndarray): \n",
    "    rmskf_split = rmskf.split(x.toarray(), y.toarray())\n",
    "else:\n",
    "    rmskf_split = rmskf.split(x, y)\n",
    "test_idx_all = []\n",
    "i = 0\n",
    "for train_index, test_index in rmskf_split:\n",
    "    i += 1\n",
    "    test_idx_all.extend(test_index)\n",
    "    print(len(test_index))\n",
    "# print(i)\n",
    "sorted(test_idx_all) == list(range(541))"
   ]
  },
  {
   "cell_type": "markdown",
   "metadata": {},
   "source": [
    "# 数据表格"
   ]
  },
  {
   "cell_type": "code",
   "execution_count": 93,
   "metadata": {
    "collapsed": true
   },
   "outputs": [],
   "source": [
    "def cv_analysis(y):\n",
    "    n_samples, n_labels = y.shape\n",
    "    n_labelset = pd.DataFrame(y).drop_duplicates().shape[0]\n",
    "\n",
    "    examples_per_labelset = pd.value_counts(pd.DataFrame([str(item) for item in y])[0])\n",
    "    assert sum(examples_per_labelset) == n_samples\n",
    "\n",
    "    examples_per_label = np.sum(y, axis = 0)\n",
    "    assert len(examples_per_label) == n_labels\n",
    "    # sum(examples_per_label) = 886 = # DTI\n",
    "    \n",
    "\n",
    "    print(n_labels, n_samples, n_labelset, \n",
    "          min(examples_per_labelset), np.mean(examples_per_labelset), max(examples_per_labelset),\n",
    "          min(examples_per_label), np.mean(examples_per_label), max(examples_per_label))\n",
    "    return"
   ]
  },
  {
   "cell_type": "code",
   "execution_count": 98,
   "metadata": {
    "collapsed": true
   },
   "outputs": [],
   "source": [
    "filename = 'GPCR_U_T_xy_np_rdkit_morgan_radius2.npz'\n",
    "with np.load(pwd + filename, allow_pickle = True) as f:\n",
    "    x_gpcr = f['x_t_np']\n",
    "    y_gpcr = f['y_t_np']\n",
    "\n",
    "filename_ic = 'IC_U_T_xy_np_rdkit_morgan_radius2.npz'\n",
    "with np.load(pwd + filename_ic, allow_pickle = True) as f:\n",
    "    x_ic = f['x_t_np']\n",
    "    y_ic = f['y_t_np']\n",
    "\n",
    "filename_e = 'E_U_T_xy_np_rdkit_morgan_radius2.npz'\n",
    "with np.load(pwd + filename_e, allow_pickle = True) as f:\n",
    "    x_e = f['x_t_np']\n",
    "    y_e = f['y_t_np']"
   ]
  },
  {
   "cell_type": "code",
   "execution_count": 99,
   "metadata": {},
   "outputs": [
    {
     "name": "stdout",
     "output_type": "stream",
     "text": [
      "33 541 77 1 7.025974025974026 132 1 26.848484848484848 159\n",
      "156 1680 352 1 4.7727272727272725 135 1 34.506410256410255 249\n",
      "238 765 280 1 2.732142857142857 67 1 26.827731092436974 144\n",
      "1411 1777 692 1 2.5679190751445087 102 1 5.223954642097803 154\n"
     ]
    }
   ],
   "source": [
    "cv_analysis(y)# nr\n",
    "cv_analysis(y_gpcr)\n",
    "cv_analysis(y_ic)\n",
    "cv_analysis(y_e)"
   ]
  },
  {
   "cell_type": "markdown",
   "metadata": {},
   "source": [
    "# Tt"
   ]
  },
  {
   "cell_type": "code",
   "execution_count": 126,
   "metadata": {},
   "outputs": [],
   "source": [
    "pwd = '/home/chujunyi/2_Program/2_output_file/2_multilabel/1_X_Y_data/'\n",
    "\n",
    "filename = 'NR_U_D_xy_np_profeatCTD.npz'\n",
    "with np.load(pwd + filename, allow_pickle = True) as f:\n",
    "    x_d_nr, y_d_nr = f['x_d_np'], f['y_d_np']\n",
    "    \n",
    "filename = 'GPCR_U_D_xy_np_profeatCTD.npz'\n",
    "with np.load(pwd + filename, allow_pickle = True) as f:\n",
    "    x_d_gpcr, y_d_gpcr = f['x_d_np'], f['y_d_np']\n",
    "    \n",
    "filename = 'IC_U_D_xy_np_profeatCTD.npz'\n",
    "with np.load(pwd + filename, allow_pickle = True) as f:\n",
    "    x_d_ic, y_d_ic = f['x_d_np'], f['y_d_np']\n",
    "    \n",
    "filename = 'E_U_D_xy_np_profeatCTD.npz'\n",
    "with np.load(pwd + filename, allow_pickle = True) as f:\n",
    "    x_d_e, y_d_e = f['x_d_np'], f['y_d_np']"
   ]
  },
  {
   "cell_type": "code",
   "execution_count": 127,
   "metadata": {},
   "outputs": [
    {
     "name": "stdout",
     "output_type": "stream",
     "text": [
      "541 33 31 1 1.064516129032258 2 1 1.6377079482439927 9\n",
      "1680 156 138 1 1.1304347826086956 7 1 3.2041666666666666 34\n",
      "765 238 179 1 1.329608938547486 20 1 8.34640522875817 123\n",
      "1777 1411 713 1 1.9789621318373072 154 1 4.148002250984806 293\n"
     ]
    }
   ],
   "source": [
    "cv_analysis(y_d_nr)\n",
    "cv_analysis(y_d_gpcr)\n",
    "cv_analysis(y_d_ic)\n",
    "cv_analysis(y_d_e)"
   ]
  },
  {
   "cell_type": "code",
   "execution_count": null,
   "metadata": {
    "collapsed": true
   },
   "outputs": [],
   "source": []
  },
  {
   "cell_type": "code",
   "execution_count": null,
   "metadata": {
    "collapsed": true
   },
   "outputs": [],
   "source": []
  },
  {
   "cell_type": "code",
   "execution_count": 122,
   "metadata": {},
   "outputs": [
    {
     "data": {
      "text/plain": [
       "(0.5, 0.5777777777777777)"
      ]
     },
     "execution_count": 122,
     "metadata": {},
     "output_type": "execute_result"
    }
   ],
   "source": [
    "import sklearn.metrics as metrics\n",
    "y_true = [1,0,0,0,0,0,0,0,0,1]\n",
    "y_score = [.1, .2, .2, .3, .4, .4, .2, .4, .3, .9]\n",
    "auc = metrics.roc_auc_score(y_true, y_score)\n",
    "precision, recall, _ = metrics.precision_recall_curve(y_true, y_score)\n",
    "aupr = metrics.auc(recall, precision)\n",
    "auc, aupr"
   ]
  }
 ],
 "metadata": {
  "kernelspec": {
   "display_name": "python36",
   "language": "python",
   "name": "python36"
  },
  "language_info": {
   "codemirror_mode": {
    "name": "ipython",
    "version": 3
   },
   "file_extension": ".py",
   "mimetype": "text/x-python",
   "name": "python",
   "nbconvert_exporter": "python",
   "pygments_lexer": "ipython3",
   "version": "3.6.0"
  }
 },
 "nbformat": 4,
 "nbformat_minor": 2
}
