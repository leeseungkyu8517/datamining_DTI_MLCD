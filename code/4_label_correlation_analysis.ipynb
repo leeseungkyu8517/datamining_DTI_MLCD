{
 "cells": [
  {
   "cell_type": "code",
   "execution_count": 1,
   "metadata": {
    "collapsed": true
   },
   "outputs": [],
   "source": [
    "import seaborn as sns\n",
    "import pandas as pd\n",
    "import numpy as np\n",
    "sns.set()"
   ]
  },
  {
   "cell_type": "code",
   "execution_count": 2,
   "metadata": {
    "collapsed": true
   },
   "outputs": [],
   "source": [
    "def read_np_file(pwd, filename):\n",
    "    import numpy as np\n",
    "    data = np.load(pwd + filename, allow_pickle = True)\n",
    "    y_target_label = pd.DataFrame(data['y_t_np'])\n",
    "#     label_names = list(data['label_names'])\n",
    "    return y_target_label#, label_names"
   ]
  },
  {
   "cell_type": "code",
   "execution_count": 3,
   "metadata": {
    "collapsed": true
   },
   "outputs": [],
   "source": [
    "def cramers_corrected_stat(confusion_matrix):\n",
    "    \"\"\" calculate Cramers V statistic for categorical-categorical association.\n",
    "        uses correction from Bergsma and Wicher, \n",
    "        Journal of the Korean Statistical Society 42 (2013): 323-328\n",
    "    \"\"\"\n",
    "    import scipy.stats as ss\n",
    "    chi2 = ss.chi2_contingency(confusion_matrix)[0]\n",
    "    n = confusion_matrix.sum().sum()\n",
    "    phi2 = chi2/n\n",
    "    r,k = confusion_matrix.shape\n",
    "    phi2corr = max(0, phi2 - ((k-1)*(r-1))/(n-1))    \n",
    "    rcorr = r - ((r-1)**2)/(n-1)\n",
    "    kcorr = k - ((k-1)**2)/(n-1)\n",
    "    return np.sqrt(phi2corr / min( (kcorr-1), (rcorr-1)))"
   ]
  },
  {
   "cell_type": "code",
   "execution_count": 4,
   "metadata": {
    "collapsed": true
   },
   "outputs": [],
   "source": [
    "def generate_correlation_matrix(y_data, label_names):\n",
    "    correlation_matrix = np.zeros(shape=(y_data.shape[1], y_data.shape[1]))\n",
    "    for i in range(y_data.shape[1]):\n",
    "        for j in range(y_data.shape[1]):\n",
    "            if i == j: continue\n",
    "            confusion_matrix = pd.crosstab(y_data.iloc[:, i], y_data.iloc[:, j])\n",
    "            correlation_matrix[i, j] = cramers_corrected_stat(confusion_matrix)\n",
    "    np.fill_diagonal(correlation_matrix, 1)\n",
    "\n",
    "    correlation_matrix = pd.DataFrame(correlation_matrix)\n",
    "    correlation_matrix.index = label_names\n",
    "    correlation_matrix.columns = label_names\n",
    "    return correlation_matrix"
   ]
  },
  {
   "cell_type": "code",
   "execution_count": 5,
   "metadata": {
    "collapsed": true
   },
   "outputs": [],
   "source": [
    "def draw_correlation_figure(correlation_matrix, save_fig_pwd = False, save_fig_filename = False):\n",
    "    import matplotlib.pyplot as plt\n",
    "    plt.figure(figsize=(30,30))\n",
    "    sns.heatmap(correlation_matrix, linewidths = 0.5, annot = True, vmax = 1, cmap = \"Blues\")\n",
    "#     plt.show()\n",
    "    if save_fig_pwd and save_fig_filename:\n",
    "        print(save_fig_pwd + save_fig_filename)\n",
    "        plt.savefig(save_fig_pwd + save_fig_filename, dpi=600)\n",
    "    return"
   ]
  },
  {
   "cell_type": "code",
   "execution_count": 6,
   "metadata": {
    "collapsed": true
   },
   "outputs": [],
   "source": [
    "def generate_label_coappearence_matrix(y_data, label_names):\n",
    "    label_pairs = np.zeros((y_data.shape[1], y_data.shape[1]), dtype=int)\n",
    "    for i in range(y_data.shape[1]):\n",
    "        for j in range(y_data.shape[1]):\n",
    "                for k in range(y_data.shape[0]):\n",
    "                    if y_data.values[k, i] == y_data.values[k, j] and y_data.values[k, i] == 1:\n",
    "                        label_pairs[i, j] += 1\n",
    "\n",
    "    label_pairs = pd.DataFrame(label_pairs)\n",
    "    label_pairs.index = label_names\n",
    "    label_pairs.columns = label_names\n",
    "    return label_pairs"
   ]
  },
  {
   "cell_type": "code",
   "execution_count": 7,
   "metadata": {
    "collapsed": true
   },
   "outputs": [],
   "source": [
    "def all_process_to_correlation(pwd, filename, save_fig_pwd, save_fig_filename, label_names):\n",
    "    y_data = read_np_file(pwd, filename)\n",
    "    \n",
    "    correlation_matrix = generate_correlation_matrix(y_data, label_names)\n",
    "    label_pairs = generate_label_coappearence_matrix(y_data, label_names)\n",
    "    \n",
    "    draw_correlation_figure(correlation_matrix, save_fig_pwd = save_fig_pwd, save_fig_filename = save_fig_filename)\n",
    "    \n",
    "    return correlation_matrix, label_pairs"
   ]
  },
  {
   "cell_type": "code",
   "execution_count": 8,
   "metadata": {},
   "outputs": [
    {
     "name": "stdout",
     "output_type": "stream",
     "text": [
      "/home/chujunyi/2_Program/2_output_file/2_multilabel/v2_NR_Updated_target_label_cram_v_correlation.pdf\n"
     ]
    }
   ],
   "source": [
    "pwd = '/home/chujunyi/2_Program/2_output_file/2_multilabel/1_X_Y_data/'\n",
    "filename = 'v2_NR_U_T_xy_np_rdkit_morgan_radius2.npz'\n",
    "nr_label_names = ['hsa10062', 'hsa190', 'hsa2099', 'hsa2100', 'hsa2101', 'hsa2103',\n",
    "       'hsa2104', 'hsa2908', 'hsa3172', 'hsa3174', 'hsa367', 'hsa4306',\n",
    "       'hsa5241', 'hsa5465', 'hsa5467', 'hsa5468', 'hsa5914', 'hsa5915',\n",
    "       'hsa5916', 'hsa6095', 'hsa6096', 'hsa6097', 'hsa6256', 'hsa6257',\n",
    "       'hsa6258', 'hsa7067', 'hsa7068', 'hsa7376', 'hsa7421', 'hsa8013',\n",
    "       'hsa8856', 'hsa9970', 'hsa9971']\n",
    "save_fig_pwd = '/home/chujunyi/2_Program/2_output_file/2_multilabel/'\n",
    "save_fig_filename = 'v2_NR_Updated_target_label_cram_v_correlation.pdf'\n",
    "\n",
    "correlation_matrix, label_pairs = all_process_to_correlation(pwd, filename, save_fig_pwd, save_fig_filename, nr_label_names)"
   ]
  },
  {
   "cell_type": "code",
   "execution_count": 9,
   "metadata": {
    "collapsed": true
   },
   "outputs": [],
   "source": [
    "label_pairs.to_csv('/home/chujunyi/2_Program/2_output_file/2_multilabel/NR_Updated_target_label__label_pair_intersection.csv')\n",
    "correlation_matrix.to_csv('/home/chujunyi/2_Program/2_output_file/2_multilabel/NR_Updated_target_label__label_correlation.csv') # put it into paper"
   ]
  },
  {
   "cell_type": "code",
   "execution_count": 10,
   "metadata": {
    "collapsed": true
   },
   "outputs": [],
   "source": [
    "### 弦图"
   ]
  },
  {
   "cell_type": "code",
   "execution_count": null,
   "metadata": {
    "collapsed": true
   },
   "outputs": [],
   "source": []
  }
 ],
 "metadata": {
  "kernelspec": {
   "display_name": "python36",
   "language": "python",
   "name": "python36"
  },
  "language_info": {
   "codemirror_mode": {
    "name": "ipython",
    "version": 3
   },
   "file_extension": ".py",
   "mimetype": "text/x-python",
   "name": "python",
   "nbconvert_exporter": "python",
   "pygments_lexer": "ipython3",
   "version": "3.6.0"
  }
 },
 "nbformat": 4,
 "nbformat_minor": 2
}
